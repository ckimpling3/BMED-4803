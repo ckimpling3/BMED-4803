{
 "cells": [
  {
   "cell_type": "markdown",
   "id": "afee6841-e9e6-457b-aeca-33bba0ca16ad",
   "metadata": {},
   "source": [
    "# In-Class Activity #2\n",
    "\n",
    "Group 5: AP, Ophelia, Sabrina, Umamah, Carly \n",
    "\n",
    "***\n",
    "\n",
    "1. **Temporal Coding:** the time the neuron fires is the information that is encoding or a pattern of nueron firing \n",
    "2. **Rate Coding:** is the amount of neuron firing in a particular time \n",
    "3. **Latency:** is the delay in time from the onset of a stimulus to the initial firing of the neuron \n",
    "4. **Synchronous:** multiple neurons firing at the same time coincidentally \n",
    "5. **Tuning Curves:** characterize neuron firing patterns in response to stimuli; they also lack noise\n",
    "6. **Population code:** a compilation of spike train patterns from multiple neurons\n",
    "\n",
    "Temporal and rate coding both refer to how information is interpreted by post-synaptic neurons, but the information interpreted is different. For temporal coding, the information encoded is the time neurons fire or a particular pattern in which they fire. For rate coding, the information in coded is the amount of action potentials fired during a particular period. Latency and synchronous coding both refer to times of neuron firing. Latency is the delay of firing while synchronous coding is the firing of multiple neurons at once. Latency refers to one neuron while synchorous is only relevant in the context of a group. Tuning curves are population code and tuning curves are both represenatations of neuron firing patterns; however, tuning curves lack the noise, or extra firing caused by external stimuli, that population codes have. \n",
    "\n"
   ]
  },
  {
   "cell_type": "code",
   "execution_count": null,
   "id": "09fc530d-eac2-400c-b2e4-f7814ebb8e0b",
   "metadata": {},
   "outputs": [],
   "source": []
  }
 ],
 "metadata": {
  "kernelspec": {
   "display_name": "Python 3 (ipykernel)",
   "language": "python",
   "name": "python3"
  },
  "language_info": {
   "codemirror_mode": {
    "name": "ipython",
    "version": 3
   },
   "file_extension": ".py",
   "mimetype": "text/x-python",
   "name": "python",
   "nbconvert_exporter": "python",
   "pygments_lexer": "ipython3",
   "version": "3.11.5"
  }
 },
 "nbformat": 4,
 "nbformat_minor": 5
}
